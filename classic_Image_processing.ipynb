{
  "nbformat": 4,
  "nbformat_minor": 0,
  "metadata": {
    "colab": {
      "provenance": [],
      "authorship_tag": "ABX9TyPSEECnEzmuzmaYSkVXi1LT",
      "include_colab_link": true
    },
    "kernelspec": {
      "name": "python3",
      "display_name": "Python 3"
    },
    "language_info": {
      "name": "python"
    }
  },
  "cells": [
    {
      "cell_type": "markdown",
      "metadata": {
        "id": "view-in-github",
        "colab_type": "text"
      },
      "source": [
        "<a href=\"https://colab.research.google.com/github/mhdykz/processing-techniques-to-denoise-images-corrupted-by-salt-and-pepper-noise/blob/main/classic_Image_processing.ipynb\" target=\"_parent\"><img src=\"https://colab.research.google.com/assets/colab-badge.svg\" alt=\"Open In Colab\"/></a>"
      ]
    },
    {
      "cell_type": "code",
      "execution_count": 2,
      "metadata": {
        "id": "bPaPCie-Wq3E"
      },
      "outputs": [],
      "source": [
        "import cv2\n",
        "import numpy as np\n",
        "import matplotlib.pyplot as plt"
      ]
    },
    {
      "cell_type": "code",
      "source": [
        "def add_salt_and_pepper_noise(image, noise_density):\n",
        "    noisy_image = image.copy()\n",
        "    total_pixels = image.size\n",
        "    num_noise_pixels = int(noise_density * total_pixels)\n",
        "\n",
        "\n",
        "    salt_coords = [np.random.randint(0, i - 1, num_noise_pixels) for i in image.shape]\n",
        "    noisy_image[salt_coords[0], salt_coords[1]] = 255\n",
        "\n",
        "\n",
        "    pepper_coords = [np.random.randint(0, i - 1, num_noise_pixels) for i in image.shape]\n",
        "    noisy_image[pepper_coords[0], pepper_coords[1]] = 0\n",
        "\n",
        "    return noisy_image\n"
      ],
      "metadata": {
        "id": "AeLuu3pnKSiP"
      },
      "execution_count": 1,
      "outputs": []
    },
    {
      "cell_type": "code",
      "source": [],
      "metadata": {
        "id": "ygD9s5m-ic8b"
      },
      "execution_count": null,
      "outputs": []
    }
  ]
}