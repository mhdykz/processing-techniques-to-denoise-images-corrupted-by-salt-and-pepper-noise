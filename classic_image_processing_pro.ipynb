{
  "nbformat": 4,
  "nbformat_minor": 0,
  "metadata": {
    "colab": {
      "provenance": [],
      "authorship_tag": "ABX9TyPf4kkwfVPP20oztAhNTwBT",
      "include_colab_link": true
    },
    "kernelspec": {
      "name": "python3",
      "display_name": "Python 3"
    },
    "language_info": {
      "name": "python"
    }
  },
  "cells": [
    {
      "cell_type": "markdown",
      "metadata": {
        "id": "view-in-github",
        "colab_type": "text"
      },
      "source": [
        "<a href=\"https://colab.research.google.com/github/mhdykz/processing-techniques-to-denoise-images-corrupted-by-salt-and-pepper-noise/blob/main/classic_image_processing_pro.ipynb\" target=\"_parent\"><img src=\"https://colab.research.google.com/assets/colab-badge.svg\" alt=\"Open In Colab\"/></a>"
      ]
    },
    {
      "cell_type": "code",
      "execution_count": 1,
      "metadata": {
        "id": "04g8CVfcHt-y"
      },
      "outputs": [],
      "source": [
        "import cv2\n",
        "import numpy as np\n",
        "import matplotlib.pyplot as plt\n"
      ]
    },
    {
      "cell_type": "code",
      "source": [
        "def remove_strong_noise(image):\n",
        "    noisy_image = image.copy()\n",
        "    noisy_image[noisy_image == 0] = 1\n",
        "    noisy_image[noisy_image == 255] = 254\n",
        "    return noisy_image"
      ],
      "metadata": {
        "id": "cmI3mHTPJCc6"
      },
      "execution_count": 2,
      "outputs": []
    },
    {
      "cell_type": "code",
      "source": [
        "def label_objects(image):\n",
        "    num_labels, labels = cv2.connectedComponents(image)\n",
        "    return num_labels, labels\n"
      ],
      "metadata": {
        "id": "XjVB14ejJFSO"
      },
      "execution_count": 3,
      "outputs": []
    },
    {
      "cell_type": "code",
      "source": [
        "def add_salt_and_pepper_noise(image, noise_density):\n",
        "    noisy_image = image.copy()\n",
        "    total_pixels = image.size\n",
        "    num_noise_pixels = int(noise_density * total_pixels)\n",
        "\n",
        "    salt_coords = [np.random.randint(0, i - 1, num_noise_pixels) for i in image.shape]\n",
        "    noisy_image[salt_coords[0], salt_coords[1]] = 255\n",
        "\n",
        "    pepper_coords = [np.random.randint(0, i - 1, num_noise_pixels) for i in image.shape]\n",
        "    noisy_image[pepper_coords[0], pepper_coords[1]] = 0\n",
        "\n",
        "    return noisy_image\n"
      ],
      "metadata": {
        "id": "pJbcbKQeJeh2"
      },
      "execution_count": 4,
      "outputs": []
    },
    {
      "cell_type": "code",
      "source": [
        "def find_noise_pixels(image, labels):\n",
        "    noise_pixels = np.where((image == 0) | (image == 255))\n",
        "    noise_positions = list(zip(noise_pixels[0], noise_pixels[1]))\n",
        "\n",
        "    noise_with_labels = [(pos, labels[pos[0], pos[1]]) for pos in noise_positions]\n",
        "    return noise_with_labels\n"
      ],
      "metadata": {
        "id": "vritLmPZJwPU"
      },
      "execution_count": 5,
      "outputs": []
    },
    {
      "cell_type": "code",
      "source": [
        "def generate_possible_matrices(image, noise_position, label, labels):\n",
        "    x, y = noise_position\n",
        "    object_pixels = np.where(labels == label)\n",
        "\n",
        "    max_size = 5\n",
        "    possible_matrices = []\n",
        "\n",
        "    for size in range(3, max_size+1, 2):\n",
        "        half_size = size // 2\n",
        "        start_x = max(0, x - half_size)\n",
        "        end_x = min(image.shape[0], x + half_size + 1)\n",
        "        start_y = max(0, y - half_size)\n",
        "        end_y = min(image.shape[1], y + half_size + 1)\n",
        "\n",
        "        matrix = image[start_x:end_x, start_y:end_y]\n",
        "        possible_matrices.append(matrix)\n",
        "\n",
        "    return possible_matrices"
      ],
      "metadata": {
        "id": "_6aEjDquJzRp"
      },
      "execution_count": 6,
      "outputs": []
    },
    {
      "cell_type": "code",
      "source": [
        "def minimize_variance(possible_matrices):\n",
        "    min_variance = float('inf')\n",
        "    best_value = None\n",
        "\n",
        "    for matrix in possible_matrices:\n",
        "        variance = np.var(matrix)\n",
        "        if variance < min_variance:\n",
        "            min_variance = variance\n",
        "            best_value = np.median(matrix)\n",
        "\n",
        "    return best_value"
      ],
      "metadata": {
        "id": "hV0M9_6eW3ZB"
      },
      "execution_count": 7,
      "outputs": []
    },
    {
      "cell_type": "code",
      "source": [
        "def apply_kazi_filter(image, labels):\n",
        "    image = remove_strong_noise(image)\n",
        "\n",
        "    noise_with_labels = find_noise_pixels(image, labels)\n",
        "\n",
        "    for noise_position, label in noise_with_labels:\n",
        "        possible_matrices = generate_possible_matrices(image, noise_position, label, labels)\n",
        "        best_value = minimize_variance(possible_matrices)\n",
        "\n",
        "        x, y = noise_position\n",
        "        image[x, y] = best_value\n",
        "\n",
        "    return image"
      ],
      "metadata": {
        "id": "RocEcn7Mh_KK"
      },
      "execution_count": 8,
      "outputs": []
    },
    {
      "cell_type": "code",
      "source": [],
      "metadata": {
        "id": "P8t-VCRJiEwx"
      },
      "execution_count": null,
      "outputs": []
    }
  ]
}