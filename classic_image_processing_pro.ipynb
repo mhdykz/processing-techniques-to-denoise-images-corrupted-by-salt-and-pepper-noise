{
  "nbformat": 4,
  "nbformat_minor": 0,
  "metadata": {
    "colab": {
      "provenance": [],
      "authorship_tag": "ABX9TyPrc1hyhR9T92Zt1k8kYyJp",
      "include_colab_link": true
    },
    "kernelspec": {
      "name": "python3",
      "display_name": "Python 3"
    },
    "language_info": {
      "name": "python"
    }
  },
  "cells": [
    {
      "cell_type": "markdown",
      "metadata": {
        "id": "view-in-github",
        "colab_type": "text"
      },
      "source": [
        "<a href=\"https://colab.research.google.com/github/mhdykz/processing-techniques-to-denoise-images-corrupted-by-salt-and-pepper-noise/blob/main/classic_image_processing_pro.ipynb\" target=\"_parent\"><img src=\"https://colab.research.google.com/assets/colab-badge.svg\" alt=\"Open In Colab\"/></a>"
      ]
    },
    {
      "cell_type": "code",
      "execution_count": 1,
      "metadata": {
        "id": "04g8CVfcHt-y"
      },
      "outputs": [],
      "source": [
        "import cv2\n",
        "import numpy as np\n",
        "import matplotlib.pyplot as plt\n"
      ]
    },
    {
      "cell_type": "code",
      "source": [
        "def remove_strong_noise(image):\n",
        "    noisy_image = image.copy()\n",
        "    noisy_image[noisy_image == 0] = 1\n",
        "    noisy_image[noisy_image == 255] = 254\n",
        "    return noisy_image"
      ],
      "metadata": {
        "id": "cmI3mHTPJCc6"
      },
      "execution_count": 2,
      "outputs": []
    },
    {
      "cell_type": "code",
      "source": [
        "def label_objects(image):\n",
        "    num_labels, labels = cv2.connectedComponents(image)\n",
        "    return num_labels, labels\n"
      ],
      "metadata": {
        "id": "XjVB14ejJFSO"
      },
      "execution_count": 3,
      "outputs": []
    },
    {
      "cell_type": "code",
      "source": [
        "def add_salt_and_pepper_noise(image, noise_density):\n",
        "    noisy_image = image.copy()\n",
        "    total_pixels = image.size\n",
        "    num_noise_pixels = int(noise_density * total_pixels)\n",
        "\n",
        "    salt_coords = [np.random.randint(0, i - 1, num_noise_pixels) for i in image.shape]\n",
        "    noisy_image[salt_coords[0], salt_coords[1]] = 255\n",
        "\n",
        "    pepper_coords = [np.random.randint(0, i - 1, num_noise_pixels) for i in image.shape]\n",
        "    noisy_image[pepper_coords[0], pepper_coords[1]] = 0\n",
        "\n",
        "    return noisy_image\n"
      ],
      "metadata": {
        "id": "pJbcbKQeJeh2"
      },
      "execution_count": 4,
      "outputs": []
    },
    {
      "cell_type": "code",
      "source": [
        "def find_noise_pixels(image, labels):\n",
        "    noise_pixels = np.where((image == 0) | (image == 255))\n",
        "    noise_positions = list(zip(noise_pixels[0], noise_pixels[1]))\n",
        "\n",
        "    noise_with_labels = [(pos, labels[pos[0], pos[1]]) for pos in noise_positions]\n",
        "    return noise_with_labels\n"
      ],
      "metadata": {
        "id": "vritLmPZJwPU"
      },
      "execution_count": 5,
      "outputs": []
    },
    {
      "cell_type": "code",
      "source": [],
      "metadata": {
        "id": "_6aEjDquJzRp"
      },
      "execution_count": null,
      "outputs": []
    }
  ]
}